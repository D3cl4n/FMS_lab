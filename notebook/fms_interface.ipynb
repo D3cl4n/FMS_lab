{
 "cells": [
  {
   "cell_type": "markdown",
   "id": "d2597466",
   "metadata": {},
   "source": [
    "# FMS Attack Learning Notebook"
   ]
  },
  {
   "cell_type": "code",
   "execution_count": null,
   "id": "6f2ce93f",
   "metadata": {
    "scrolled": false
   },
   "outputs": [],
   "source": [
    "import docker\n",
    "\n",
    "# connect to the docker daemon\n",
    "docker_client = docker.from_env()"
   ]
  },
  {
   "cell_type": "code",
   "execution_count": null,
   "id": "bc047590",
   "metadata": {},
   "outputs": [],
   "source": [
    "# create handles on each container\n",
    "ap_container = docker_client.containers.get(\"fms_ap\")\n",
    "client_container = docker_client.containers.get(\"fms_client\")\n",
    "\n",
    "# start the client and access point containers\n",
    "ap_container.start()\n",
    "client_container.start()"
   ]
  },
  {
   "cell_type": "markdown",
   "id": "094e8860",
   "metadata": {},
   "source": [
    "## Viewing STDOUT"
   ]
  },
  {
   "cell_type": "code",
   "execution_count": null,
   "id": "d4e86572",
   "metadata": {},
   "outputs": [],
   "source": [
    "output = b\"\"\n",
    "for line in ap_container.logs(stream=True):\n",
    "    output += line\n",
    "    \n",
    "print(output.decode(\"utf-8\"))"
   ]
  },
  {
   "cell_type": "code",
   "execution_count": null,
   "id": "a6421a0c",
   "metadata": {},
   "outputs": [],
   "source": [
    "output = b\"\"\n",
    "for line in client_container.logs(stream=True):\n",
    "    output += line\n",
    "    \n",
    "print(output.decode(\"utf-8\"))"
   ]
  },
  {
   "cell_type": "markdown",
   "id": "9a98cc35",
   "metadata": {},
   "source": [
    "## Test the Docker SDK Connections"
   ]
  },
  {
   "cell_type": "code",
   "execution_count": null,
   "id": "9f3872d8",
   "metadata": {},
   "outputs": [],
   "source": [
    " for container in docker_client.containers.list():\n",
    "        print(f\"[*] Container name: {container.name}\")\n",
    "        print(f\"[*] Container status: {container.status}\")"
   ]
  },
  {
   "cell_type": "code",
   "execution_count": null,
   "id": "e21733fe",
   "metadata": {},
   "outputs": [],
   "source": [
    "print(\"hello world\")"
   ]
  }
 ],
 "metadata": {
  "kernelspec": {
   "display_name": "Python 3 (ipykernel)",
   "language": "python",
   "name": "python3"
  },
  "language_info": {
   "codemirror_mode": {
    "name": "ipython",
    "version": 3
   },
   "file_extension": ".py",
   "mimetype": "text/x-python",
   "name": "python",
   "nbconvert_exporter": "python",
   "pygments_lexer": "ipython3",
   "version": "3.10.12"
  }
 },
 "nbformat": 4,
 "nbformat_minor": 5
}
