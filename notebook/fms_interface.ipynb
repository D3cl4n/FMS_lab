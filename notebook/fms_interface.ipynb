{
 "cells": [
  {
   "cell_type": "markdown",
   "id": "d2597466",
   "metadata": {},
   "source": [
    "# FMS Attack Learning Notebook"
   ]
  },
  {
   "cell_type": "code",
   "execution_count": 1,
   "id": "6f2ce93f",
   "metadata": {},
   "outputs": [],
   "source": [
    "import docker\n",
    "\n",
    "# connect to the docker daemon\n",
    "docker_client = docker.from_env()\n",
    "\n",
    "ap_container = docker_client.containers.get(\"fms_ap\")\n",
    "client_container = docker_client.containers.get(\"fms_client\")"
   ]
  },
  {
   "cell_type": "markdown",
   "id": "094e8860",
   "metadata": {},
   "source": [
    "## Starting the Access Point and Client"
   ]
  },
  {
   "cell_type": "code",
   "execution_count": null,
   "id": "a63a661e",
   "metadata": {},
   "outputs": [],
   "source": [
    "# run the access point's python script\n",
    "ap_container.exec_run(\"python /access_point/ap.py\")\n",
    "\n",
    "# run the client's python script\n",
    "client_container.exec_run(\"python /client/client.py\")"
   ]
  }
 ],
 "metadata": {
  "kernelspec": {
   "display_name": "Python 3 (ipykernel)",
   "language": "python",
   "name": "python3"
  },
  "language_info": {
   "codemirror_mode": {
    "name": "ipython",
    "version": 3
   },
   "file_extension": ".py",
   "mimetype": "text/x-python",
   "name": "python",
   "nbconvert_exporter": "python",
   "pygments_lexer": "ipython3",
   "version": "3.10.12"
  }
 },
 "nbformat": 4,
 "nbformat_minor": 5
}
